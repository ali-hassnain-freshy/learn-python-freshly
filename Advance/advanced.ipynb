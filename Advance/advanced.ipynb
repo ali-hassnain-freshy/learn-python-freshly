{
 "cells": [
  {
   "cell_type": "markdown",
   "id": "af237c8d",
   "metadata": {},
   "source": [
    "# 🚀 **Learn Python Freshly: Advanced**\n",
    "Dive into list comprehensions, lambda functions, and object-oriented programming (OOP)."
   ]
  },
  {
   "cell_type": "markdown",
   "id": "20f83aa4",
   "metadata": {},
   "source": [
    "## ⚡ 1️⃣ List Comprehensions"
   ]
  },
  {
   "cell_type": "code",
   "execution_count": null,
   "id": "775070d0",
   "metadata": {},
   "outputs": [],
   "source": [
    "# Create a list of squares from 0 to 4\n",
    "squares = [x**2 for x in range(5)]\n",
    "print(squares)\n",
    "\n",
    "# Filter even numbers\n",
    "evens = [x for x in range(10) if x % 2 == 0]\n",
    "print(evens)"
   ]
  },
  {
   "cell_type": "markdown",
   "id": "deea1117",
   "metadata": {},
   "source": [
    "## 🐑 2️⃣ Lambda Functions"
   ]
  },
  {
   "cell_type": "code",
   "execution_count": null,
   "id": "7a3f0475",
   "metadata": {},
   "outputs": [],
   "source": [
    "add = lambda a, b: a + b\n",
    "print(add(5, 3))\n",
    "\n",
    "# Lambda with map\n",
    "nums = [1, 2, 3]\n",
    "doubled = list(map(lambda x: x * 2, nums))\n",
    "print(doubled)"
   ]
  },
  {
   "cell_type": "markdown",
   "id": "05914927",
   "metadata": {},
   "source": [
    "## 🏗️ 3️⃣ Object Oriented Programming (OOP)"
   ]
  },
  {
   "cell_type": "code",
   "execution_count": null,
   "id": "2218aa8e",
   "metadata": {},
   "outputs": [],
   "source": [
    "class Person:\n",
    "    def __init__(self, name, age):\n",
    "        self.name = name\n",
    "        self.age = age\n",
    "\n",
    "    def greet(self):\n",
    "        print(f\"Hello, my name is {self.name} and I am {self.age} years old.\")\n",
    "\n",
    "# Create an object\n",
    "p1 = Person(\"Freshy\", 25)\n",
    "p1.greet()"
   ]
  },
  {
   "cell_type": "markdown",
   "id": "64878349",
   "metadata": {},
   "source": [
    "✅ **Done!** You’ve now explored some advanced Python features: list comprehensions, lambdas, and OOP."
   ]
  }
 ],
 "metadata": {},
 "nbformat": 4,
 "nbformat_minor": 5
}
