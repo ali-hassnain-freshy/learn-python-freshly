{
 "cells": [
  {
   "cell_type": "markdown",
   "id": "a6053b4e",
   "metadata": {},
   "source": [
    "# 🌱 **Learn Python Freshly: Basics**\n",
    "Clear, beginner‑friendly notebook to learn Python step by step!"
   ]
  },
  {
   "cell_type": "markdown",
   "id": "9c65f75e",
   "metadata": {},
   "source": [
    "## ✅ 1️⃣ Why Choose Python for Data Science"
   ]
  },
  {
   "cell_type": "code",
   "execution_count": null,
   "id": "5266a44a",
   "metadata": {},
   "outputs": [],
   "source": [
    "# Python is:\n",
    "# ✅ Easy to read and write\n",
    "# ✅ Has powerful libraries (NumPy, pandas, matplotlib, scikit-learn)\n",
    "# ✅ Huge community support\n",
    "# ✅ Great for data cleaning, analysis, visualization & machine learning\n",
    "\n",
    "print(\"Python is popular for data science because it's easy and powerful!\")"
   ]
  },
  {
   "cell_type": "markdown",
   "id": "6e5b12c2",
   "metadata": {},
   "source": [
    "## 🧮 2️⃣ Variables, Data Types and Typecasting"
   ]
  },
  {
   "cell_type": "code",
   "execution_count": null,
   "id": "06b5d3c0",
   "metadata": {},
   "outputs": [],
   "source": [
    "age = 25                # int\n",
    "height = 5.9            # float\n",
    "name = \"Freshy\"         # string\n",
    "is_programmer = True    # bool\n",
    "\n",
    "print(age, height, name, is_programmer)\n",
    "\n",
    "# Typecasting\n",
    "num_str = \"100\"\n",
    "num_int = int(num_str)\n",
    "print(num_int + 50)  # 150"
   ]
  },
  {
   "cell_type": "markdown",
   "id": "5932324b",
   "metadata": {},
   "source": [
    "## ✏ 3️⃣ String & String Methods"
   ]
  },
  {
   "cell_type": "code",
   "execution_count": null,
   "id": "09ee51ad",
   "metadata": {},
   "outputs": [],
   "source": [
    "message = \"hello world\"\n",
    "\n",
    "print(message.upper())\n",
    "print(message.capitalize())\n",
    "print(message.replace(\"world\", \"Freshy\"))\n",
    "print(len(message))"
   ]
  },
  {
   "cell_type": "markdown",
   "id": "2dfc9985",
   "metadata": {},
   "source": [
    "## ➕ 4️⃣ Operators in Python"
   ]
  },
  {
   "cell_type": "code",
   "execution_count": null,
   "id": "20138487",
   "metadata": {},
   "outputs": [],
   "source": [
    "a, b = 10, 3\n",
    "\n",
    "# Arithmetic operators\n",
    "print(a + b)   # 13\n",
    "print(a - b)   # 7\n",
    "print(a * b)   # 30\n",
    "print(a / b)   # 3.333...\n",
    "print(a // b)  # 3\n",
    "print(a % b)   # 1\n",
    "print(a ** b)  # 1000\n",
    "\n",
    "# Comparison operators\n",
    "print(a > b)   # True\n",
    "print(a == b)  # False\n",
    "\n",
    "# Logical operators\n",
    "print(True and False)   # False\n",
    "print(True or False)    # True\n",
    "print(not True)         # False"
   ]
  },
  {
   "cell_type": "markdown",
   "id": "e57634a8",
   "metadata": {},
   "source": [
    "## 🎤 5️⃣ Taking Input from the User"
   ]
  },
  {
   "cell_type": "code",
   "execution_count": null,
   "id": "facb791b",
   "metadata": {},
   "outputs": [],
   "source": [
    "# Uncomment to run interactively:\n",
    "# name = input(\"What's your name? \")\n",
    "# print(f\"Hello, {name}!\")\n",
    "\n",
    "# age = int(input(\"Your age? \"))\n",
    "# print(f\"Next year, you'll be {age + 1}\")"
   ]
  },
  {
   "cell_type": "markdown",
   "id": "07aa754f",
   "metadata": {},
   "source": [
    "## 🧠 6️⃣ Operator Precedence"
   ]
  },
  {
   "cell_type": "code",
   "execution_count": null,
   "id": "42a7102a",
   "metadata": {},
   "outputs": [],
   "source": [
    "result = 2 + 3 * 4   # 2 + (3*4) = 14\n",
    "print(result)\n",
    "\n",
    "result = (2 + 3) * 4  # (2+3)*4 = 20\n",
    "print(result)"
   ]
  },
  {
   "cell_type": "markdown",
   "id": "568b44d4",
   "metadata": {},
   "source": [
    "## 🔀 7️⃣ If‑else Conditionals & Functions"
   ]
  },
  {
   "cell_type": "code",
   "execution_count": null,
   "id": "06b8a328",
   "metadata": {},
   "outputs": [],
   "source": [
    "age = 18\n",
    "if age >= 18:\n",
    "    print(\"You are an adult\")\n",
    "else:\n",
    "    print(\"You are a minor\")\n",
    "\n",
    "def greet(name):\n",
    "    print(f\"Hi, {name}!\")\n",
    "\n",
    "greet(\"Freshy\")"
   ]
  },
  {
   "cell_type": "markdown",
   "id": "59139f0c",
   "metadata": {},
   "source": [
    "## 🧩 8️⃣ Match Case (Python 3.10+)"
   ]
  },
  {
   "cell_type": "code",
   "execution_count": null,
   "id": "f8108781",
   "metadata": {},
   "outputs": [],
   "source": [
    "color = \"green\"\n",
    "\n",
    "match color:\n",
    "    case \"red\":\n",
    "        print(\"Stop\")\n",
    "    case \"green\":\n",
    "        print(\"Go\")\n",
    "    case \"yellow\":\n",
    "        print(\"Slow down\")\n",
    "    case _:\n",
    "        print(\"Unknown color\")"
   ]
  },
  {
   "cell_type": "markdown",
   "id": "b0f29f53",
   "metadata": {},
   "source": [
    "## 📦 9️⃣ String Formatting and f‑strings"
   ]
  },
  {
   "cell_type": "code",
   "execution_count": null,
   "id": "76d1f248",
   "metadata": {},
   "outputs": [],
   "source": [
    "name = \"Freshy\"\n",
    "age = 25\n",
    "\n",
    "print(f\"My name is {name} and I am {age} years old.\")\n",
    "print(\"My name is {} and I am {} years old.\".format(name, age))"
   ]
  },
  {
   "cell_type": "markdown",
   "id": "f7ac93c4",
   "metadata": {},
   "source": [
    "## 🔁 🔟 Loops in Python"
   ]
  },
  {
   "cell_type": "code",
   "execution_count": null,
   "id": "3330ed8a",
   "metadata": {},
   "outputs": [],
   "source": [
    "# For loop\n",
    "for i in range(3):\n",
    "    print(f\"For loop iteration: {i}\")\n",
    "\n",
    "# While loop\n",
    "count = 0\n",
    "while count < 3:\n",
    "    print(f\"While loop iteration: {count}\")\n",
    "    count += 1"
   ]
  },
  {
   "cell_type": "markdown",
   "id": "f77cdafd",
   "metadata": {},
   "source": [
    "✅ **Done!** This notebook covers the basics: variables, strings, operators, input, conditionals, loops, functions, and more."
   ]
  }
 ],
 "metadata": {},
 "nbformat": 4,
 "nbformat_minor": 5
}
