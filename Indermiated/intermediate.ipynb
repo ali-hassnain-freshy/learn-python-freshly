{
 "cells": [
  {
   "cell_type": "markdown",
   "id": "7f4ab0cf",
   "metadata": {},
   "source": [
    "# 📚 **Learn Python Freshly: Intermediate**\n",
    "Explore lists, tuples, sets, dictionaries, file handling, and JSON."
   ]
  },
  {
   "cell_type": "markdown",
   "id": "ded0e047",
   "metadata": {},
   "source": [
    "## 📋 1️⃣ Lists and List Methods"
   ]
  },
  {
   "cell_type": "code",
   "execution_count": null,
   "id": "62a3c286",
   "metadata": {},
   "outputs": [],
   "source": [
    "fruits = ['apple', 'banana', 'cherry']\n",
    "print(fruits)\n",
    "\n",
    "# List methods\n",
    "fruits.append('orange')       # add at end\n",
    "print(fruits)\n",
    "fruits.remove('banana')       # remove item\n",
    "print(fruits)\n",
    "fruits.sort()                 # sort alphabetically\n",
    "print(fruits)\n",
    "print(fruits[0])              # first item"
   ]
  },
  {
   "cell_type": "markdown",
   "id": "2ce0a9b0",
   "metadata": {},
   "source": [
    "## 🔗 2️⃣ Tuples and Tuple Methods"
   ]
  },
  {
   "cell_type": "code",
   "execution_count": null,
   "id": "fbccc0c0",
   "metadata": {},
   "outputs": [],
   "source": [
    "coordinates = (10, 20)\n",
    "print(coordinates)\n",
    "print(coordinates[0])   # first element\n",
    "\n",
    "# Tuples are immutable; only methods: count & index\n",
    "print(coordinates.count(10))\n",
    "print(coordinates.index(20))"
   ]
  },
  {
   "cell_type": "markdown",
   "id": "cf4d64f8",
   "metadata": {},
   "source": [
    "## 🧩 3️⃣ Sets and Set Methods"
   ]
  },
  {
   "cell_type": "code",
   "execution_count": null,
   "id": "7680d589",
   "metadata": {},
   "outputs": [],
   "source": [
    "unique_numbers = {1, 2, 3}\n",
    "unique_numbers.add(4)\n",
    "print(unique_numbers)\n",
    "unique_numbers.remove(2)\n",
    "print(unique_numbers)\n",
    "\n",
    "# Sets do not allow duplicates\n",
    "unique_numbers.add(3)\n",
    "print(unique_numbers)"
   ]
  },
  {
   "cell_type": "markdown",
   "id": "1e055f20",
   "metadata": {},
   "source": [
    "## 📖 4️⃣ Dictionary and Dictionary Methods"
   ]
  },
  {
   "cell_type": "code",
   "execution_count": null,
   "id": "51e7a539",
   "metadata": {},
   "outputs": [],
   "source": [
    "person = {'name': 'Freshy', 'age': 25}\n",
    "print(person)\n",
    "print(person['name'])\n",
    "\n",
    "person['age'] = 26           # update value\n",
    "person['city'] = 'Delhi'     # add new key\n",
    "print(person)\n",
    "print(person.keys())\n",
    "print(person.values())"
   ]
  },
  {
   "cell_type": "markdown",
   "id": "a10d6a8f",
   "metadata": {},
   "source": [
    "## 📁 5️⃣ File Handling"
   ]
  },
  {
   "cell_type": "code",
   "execution_count": null,
   "id": "7d94e440",
   "metadata": {},
   "outputs": [],
   "source": [
    "# Write to file\n",
    "with open('sample.txt', 'w') as f:\n",
    "    f.write('Hello from Freshy!')\n",
    "\n",
    "# Read from file\n",
    "with open('sample.txt', 'r') as f:\n",
    "    content = f.read()\n",
    "    print(content)"
   ]
  },
  {
   "cell_type": "markdown",
   "id": "e2772397",
   "metadata": {},
   "source": [
    "## 🔧 6️⃣ JSON Module"
   ]
  },
  {
   "cell_type": "code",
   "execution_count": null,
   "id": "6ac35129",
   "metadata": {},
   "outputs": [],
   "source": [
    "import json\n",
    "\n",
    "data = {'name': 'Freshy', 'age': 25}\n",
    "json_str = json.dumps(data)      # convert to JSON string\n",
    "print(json_str)\n",
    "\n",
    "parsed = json.loads(json_str)    # back to dict\n",
    "print(parsed['name'])"
   ]
  },
  {
   "cell_type": "markdown",
   "id": "4f4bf020",
   "metadata": {},
   "source": [
    "✅ **Done!** You’ve now covered Python collections, file handling, and JSON."
   ]
  }
 ],
 "metadata": {},
 "nbformat": 4,
 "nbformat_minor": 5
}
